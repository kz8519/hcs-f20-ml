{
 "cells": [
  {
   "cell_type": "code",
   "execution_count": 1,
   "metadata": {},
   "outputs": [],
   "source": [
    "# import required libraries\n",
    "import numpy as np\n",
    "import matplotlib.pyplot as plt\n",
    "import tensorflow as tf\n",
    "from tensorflow import keras\n",
    "from tensorflow.keras import layers\n",
    "import math"
   ]
  },
  {
   "cell_type": "code",
   "execution_count": 2,
   "metadata": {},
   "outputs": [],
   "source": [
    "# get data\n",
    "# source: https://archive.ics.uci.edu/ml/datasets/Skin+Segmentation\n",
    "data = np.genfromtxt('data.csv', delimiter=',')\n",
    "skin = data[:50859]\n",
    "not_skin = data[50859:]\n",
    "np.save('./skin.npy', skin)\n",
    "np.save('./not_skin.npy', not_skin)\n",
    "skin_data = np.load('./skin.npy')\n",
    "not_skin_data = np.load('./not_skin.npy')"
   ]
  },
  {
   "cell_type": "code",
   "execution_count": 3,
   "metadata": {},
   "outputs": [],
   "source": [
    "# randomizing the data\n",
    "np.random.shuffle(skin_data)\n",
    "np.random.shuffle(not_skin_data)\n",
    "\n",
    "# splitting into test and train\n",
    "train_percent = 0.8\n",
    "\n",
    "skin_cutoff = math.floor(len(skin_data) * train_percent)\n",
    "skin_trainX = skin_data[:skin_cutoff]\n",
    "skin_trainY = np.tile([1,0], (len(skin_trainX),1))\n",
    "skin_testX = skin_data[skin_cutoff:]\n",
    "skin_testY = np.tile([1,0], (len(skin_testX),1))\n",
    "\n",
    "not_skin_cutoff = math.floor(len(not_skin_data) * train_percent)\n",
    "not_skin_trainX = not_skin_data[:not_skin_cutoff]\n",
    "not_skin_trainY = np.tile([0,1], (len(not_skin_trainX),1))\n",
    "not_skin_testX = not_skin_data[not_skin_cutoff:]\n",
    "not_skin_testY = np.tile([0,1], (len(not_skin_testX),1))\n",
    "\n",
    "# building the training and testing arrays\n",
    "X_train = np.concatenate((skin_trainX, not_skin_trainX))\n",
    "Y_train = np.concatenate((skin_trainY, not_skin_trainY))\n",
    "X_test = np.concatenate((skin_testX, not_skin_testX))\n",
    "Y_test = np.concatenate((skin_testY, not_skin_testY))"
   ]
  },
  {
   "cell_type": "code",
   "execution_count": 4,
   "metadata": {},
   "outputs": [],
   "source": [
    "# normalize the X data\n",
    "X_train = X_train.astype('float32')\n",
    "X_test = X_test.astype('float32')\n",
    "X_train /= 255\n",
    "X_test /= 255"
   ]
  },
  {
   "cell_type": "code",
   "execution_count": 5,
   "metadata": {},
   "outputs": [],
   "source": [
    "# building out the model\n",
    "model = keras.models.Sequential()\n",
    "\n",
    "# adding the first hidden layer\n",
    "model.add(layers.Dense(512, input_shape=(3,)))\n",
    "model.add(layers.Activation('relu'))                            \n",
    "model.add(layers.Dropout(0.2))\n",
    "\n",
    "# adding the second hidden layer\n",
    "model.add(layers.Dense(512))\n",
    "model.add(layers.Activation('relu'))\n",
    "model.add(layers.Dropout(0.2))\n",
    "\n",
    "# adding the output layer\n",
    "model.add(layers.Dense(2))\n",
    "model.add(layers.Activation('softmax'))"
   ]
  },
  {
   "cell_type": "code",
   "execution_count": 6,
   "metadata": {},
   "outputs": [],
   "source": [
    "# compiling the model\n",
    "model.compile(loss='categorical_crossentropy', metrics=['accuracy'], optimizer='adam')"
   ]
  },
  {
   "cell_type": "code",
   "execution_count": null,
   "metadata": {},
   "outputs": [
    {
     "name": "stdout",
     "output_type": "stream",
     "text": [
      "Train on 196045 samples, validate on 49012 samples\n",
      "Epoch 1/20\n"
     ]
    }
   ],
   "source": [
    "# training the model\n",
    "history = model.fit(X_train, Y_train,\n",
    "          batch_size=128, epochs=20,\n",
    "          verbose=2,\n",
    "          validation_data=(X_test, Y_test))"
   ]
  },
  {
   "cell_type": "code",
   "execution_count": null,
   "metadata": {},
   "outputs": [],
   "source": []
  }
 ],
 "metadata": {
  "kernelspec": {
   "display_name": "Python 3",
   "language": "python",
   "name": "python3"
  },
  "language_info": {
   "codemirror_mode": {
    "name": "ipython",
    "version": 3
   },
   "file_extension": ".py",
   "mimetype": "text/x-python",
   "name": "python",
   "nbconvert_exporter": "python",
   "pygments_lexer": "ipython3",
   "version": "3.7.9"
  }
 },
 "nbformat": 4,
 "nbformat_minor": 4
}
